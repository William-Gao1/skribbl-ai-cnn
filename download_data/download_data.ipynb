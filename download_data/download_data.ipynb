{
 "cells": [
  {
   "cell_type": "code",
   "execution_count": 16,
   "metadata": {},
   "outputs": [],
   "source": [
    "import os\n",
    "import shutil\n",
    "\n",
    "from google.cloud.storage import Client, transfer_manager\n",
    "\n",
    "# add service account key as default credentials\n",
    "os.environ['GOOGLE_APPLICATION_CREDENTIALS'] = './possible-cocoa-283823-363154d3490a.json'\n",
    "\n",
    "scratch = os.path.join(os.path.expanduser('~'), \"scratch\")\n",
    "\n",
    "dest_dir = os.path.join(scratch, \"quickdraw\")\n",
    "download_dir = os.path.join(scratch, \"download-quickdraw\")"
   ]
  },
  {
   "cell_type": "code",
   "execution_count": 17,
   "metadata": {},
   "outputs": [],
   "source": [
    "def download_bucket_with_transfer_manager(bucket_name, destination_directory=\"\", workers=8):\n",
    "\n",
    "    storage_client = Client()\n",
    "    bucket = storage_client.bucket(bucket_name)\n",
    "\n",
    "    blob_names = [blob.name for blob in bucket.list_blobs() if \"full/raw\" in blob.name]\n",
    "    \n",
    "    print(f\"Found {len(blob_names)} categories\")\n",
    "    \n",
    "    results = transfer_manager.download_many_to_path(\n",
    "        bucket, blob_names, destination_directory=destination_directory, max_workers=workers\n",
    "    )\n",
    "\n",
    "    for name, result in zip(blob_names, results):\n",
    "        # The results list is either `None` or an exception for each blob in\n",
    "        # the input list, in order.\n",
    "\n",
    "        if isinstance(result, Exception):\n",
    "            print(\"Failed to download {} due to exception: {}\".format(name, result))"
   ]
  },
  {
   "cell_type": "code",
   "execution_count": 18,
   "metadata": {},
   "outputs": [
    {
     "name": "stdout",
     "output_type": "stream",
     "text": [
      "Found 345 categories\n"
     ]
    }
   ],
   "source": [
    "# takes a while but only have to do once\n",
    "download_bucket_with_transfer_manager(\"quickdraw_dataset\", download_dir)"
   ]
  },
  {
   "cell_type": "code",
   "execution_count": 22,
   "metadata": {},
   "outputs": [],
   "source": [
    "# move files to more convinient location\n",
    "os.makedirs(dest_dir)\n",
    "\n",
    "downloaded_files = os.listdir(os.path.join(download_dir, \"full/raw\"))\n",
    "\n",
    "for file in downloaded_files:\n",
    "  full_file_path = os.path.join(download_dir, \"full/raw\", file)\n",
    "  dest_full_path = os.path.join(dest_dir, file)\n",
    "  shutil.move(full_file_path, dest_full_path)\n",
    "\n",
    "shutil.rmtree(download_dir)"
   ]
  }
 ],
 "metadata": {
  "kernelspec": {
   "display_name": ".venv",
   "language": "python",
   "name": "python3"
  },
  "language_info": {
   "codemirror_mode": {
    "name": "ipython",
    "version": 3
   },
   "file_extension": ".py",
   "mimetype": "text/x-python",
   "name": "python",
   "nbconvert_exporter": "python",
   "pygments_lexer": "ipython3",
   "version": "3.11.2"
  }
 },
 "nbformat": 4,
 "nbformat_minor": 2
}
