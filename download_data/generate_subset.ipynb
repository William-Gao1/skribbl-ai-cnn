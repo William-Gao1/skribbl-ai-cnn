{
 "cells": [
  {
   "cell_type": "markdown",
   "metadata": {},
   "source": [
    "Grab a subset of each category to train on"
   ]
  },
  {
   "cell_type": "code",
   "execution_count": 1,
   "metadata": {},
   "outputs": [],
   "source": [
    "import os\n",
    "from multiprocessing import Pool\n",
    "import json\n",
    "\n",
    "scratch = os.path.join(os.path.expanduser('~'), \"scratch\")\n",
    "\n",
    "loc = os.path.join(scratch, \"quickdraw\")\n",
    "filenames = [x for x in os.listdir(loc) if x.endswith(\".ndjson\")]\n",
    "\n",
    "assert len(filenames) == 345\n",
    "\n",
    "num_per_category = 1000\n",
    "dest_dir = os.path.join(scratch, \"small-quickdraw\")\n",
    "\n",
    "os.makedirs(dest_dir)\n",
    "\n",
    "nthreads = 8"
   ]
  },
  {
   "cell_type": "code",
   "execution_count": 2,
   "metadata": {},
   "outputs": [],
   "source": [
    "def extract_entries(filename):\n",
    "  source_file = os.path.join(loc, filename)\n",
    "  dest_file = os.path.join(dest_dir, filename)\n",
    "  entries = []\n",
    "  with open(source_file, 'r') as f:\n",
    "    while len(entries) < num_per_category:\n",
    "      data = f.readline()\n",
    "      \n",
    "      # only take recognized drawings\n",
    "      if json.loads(data)[\"recognized\"]:\n",
    "        entries.append(data)\n",
    "  \n",
    "  with open(dest_file, 'w') as f:\n",
    "    f.writelines(entries)\n"
   ]
  },
  {
   "cell_type": "code",
   "execution_count": 3,
   "metadata": {},
   "outputs": [],
   "source": [
    "with Pool(nthreads) as p:\n",
    "  p.map(extract_entries, filenames)"
   ]
  }
 ],
 "metadata": {
  "kernelspec": {
   "display_name": ".venv",
   "language": "python",
   "name": "python3"
  },
  "language_info": {
   "codemirror_mode": {
    "name": "ipython",
    "version": 3
   },
   "file_extension": ".py",
   "mimetype": "text/x-python",
   "name": "python",
   "nbconvert_exporter": "python",
   "pygments_lexer": "ipython3",
   "version": "3.11.2"
  }
 },
 "nbformat": 4,
 "nbformat_minor": 2
}
